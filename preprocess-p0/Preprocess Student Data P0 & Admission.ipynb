{
 "cells": [
  {
   "cell_type": "markdown",
   "metadata": {},
   "source": [
    "\n",
    "\n",
    "\n",
    "\n",
    "\n",
    "\n",
    "\n",
    "\n",
    "\n",
    "\n",
    "\n",
    "\n",
    "\n",
    "\n",
    "\n",
    "\n",
    "\n",
    "\n",
    "\n",
    "\n",
    "\n",
    "\n",
    "\n",
    "\n",
    "\n",
    "## Preprocess Data on P0 students "
   ]
  },
  {
   "cell_type": "code",
   "execution_count": 67,
   "metadata": {},
   "outputs": [],
   "source": [
    "from csv import reader\n",
    "import pandas as pd"
   ]
  },
  {
   "cell_type": "code",
   "execution_count": 53,
   "metadata": {},
   "outputs": [],
   "source": [
    "#student_names = pd.read_csv('infinite-grid.csv')\n",
    "#student_grades = pd.read_csv('infinite-lc.csv')\n",
    "open_student_names = open('infinite-grid.csv',encoding='utf-8-sig')\n",
    "open_student_grades = open('infinite-lc.csv',encoding='utf-8-sig')\n",
    "\n",
    "#Reader -> Parse the opened file\n",
    "names_file = reader(open_student_names)\n",
    "grades_file = reader(open_student_grades)\n",
    "\n",
    "#get list of lists format for the file\n",
    "names_list = list(names_file)\n",
    "grades_list = list(grades_file)"
   ]
  },
  {
   "cell_type": "code",
   "execution_count": 70,
   "metadata": {},
   "outputs": [
    {
     "name": "stdout",
     "output_type": "stream",
     "text": [
      "['Name', 'Foxhub Id', 'Buddy', 'Email', 'LC 3', 'LC 4', 'LC 5', 'Github Username']\n",
      "['ID', 'Name', 'Summary', '1', '2', '003', '3', '004', '4', '005', '5', '6']\n"
     ]
    }
   ],
   "source": [
    "#Print Column Names to get an idea of the data's characteristics\n",
    "print(names_list[0])\n",
    "print(grades_list[0])"
   ]
  },
  {
   "cell_type": "markdown",
   "metadata": {},
   "source": [
    "## Data Preprocessing Steps"
   ]
  },
  {
   "cell_type": "markdown",
   "metadata": {},
   "source": [
    "### Title format for Names\n"
   ]
  },
  {
   "cell_type": "markdown",
   "metadata": {},
   "source": [
    "Here is the step where the names of students are converted into the same title format"
   ]
  },
  {
   "cell_type": "markdown",
   "metadata": {},
   "source": [
    "#### In the Names Dataset"
   ]
  },
  {
   "cell_type": "code",
   "execution_count": 66,
   "metadata": {},
   "outputs": [],
   "source": [
    "remove_these=['$','*']\n",
    "for row in names_list:\n",
    "    name = row[0]\n",
    "    name = name.title()\n",
    "    for char in remove_these:\n",
    "        name = name.replace(char,\"\")\n",
    "    row[0] = name.strip()\n",
    "#print(names_list)\n",
    "    \n",
    "    \n",
    "\n",
    "   \n",
    "            \n",
    "            \n",
    "   "
   ]
  },
  {
   "cell_type": "markdown",
   "metadata": {},
   "source": [
    "#### In Grades Dataset"
   ]
  },
  {
   "cell_type": "code",
   "execution_count": 65,
   "metadata": {},
   "outputs": [],
   "source": [
    "remove_these=['$','*']\n",
    "for row in grades_list:\n",
    "    name = row[1]\n",
    "    name = name.title()\n",
    "    for char in remove_these:\n",
    "        name = name.replace(char,\"\")\n",
    "    row[1] = name.strip()\n",
    "#print(grades_list)\n",
    "    \n",
    "    \n",
    "\n",
    "   \n",
    "            \n",
    "            \n",
    "   "
   ]
  },
  {
   "cell_type": "markdown",
   "metadata": {},
   "source": [
    "### Adding Email Column to Grades"
   ]
  },
  {
   "cell_type": "code",
   "execution_count": 75,
   "metadata": {},
   "outputs": [
    {
     "name": "stdout",
     "output_type": "stream",
     "text": [
      "1\n",
      "2\n",
      "3\n",
      "4\n",
      "5\n",
      "6\n",
      "7\n",
      "8\n",
      "9\n",
      "10\n",
      "11\n",
      "12\n",
      "13\n",
      "14\n",
      "15\n",
      "16\n",
      "17\n",
      "18\n",
      "19\n",
      "20\n",
      "21\n",
      "22\n",
      "23\n",
      "24\n",
      "25\n",
      "26\n",
      "27\n",
      "28\n"
     ]
    }
   ],
   "source": [
    "for row_names in names_list[1:]:\n",
    "       for row_grades in grades_list[1:]:\n",
    "            if (row_grades[1] == row_names[0]):\n",
    "                "
   ]
  },
  {
   "cell_type": "code",
   "execution_count": null,
   "metadata": {},
   "outputs": [],
   "source": []
  }
 ],
 "metadata": {
  "kernelspec": {
   "display_name": "Python 3",
   "language": "python",
   "name": "python3"
  },
  "language_info": {
   "codemirror_mode": {
    "name": "ipython",
    "version": 3
   },
   "file_extension": ".py",
   "mimetype": "text/x-python",
   "name": "python",
   "nbconvert_exporter": "python",
   "pygments_lexer": "ipython3",
   "version": "3.7.4"
  }
 },
 "nbformat": 4,
 "nbformat_minor": 2
}
