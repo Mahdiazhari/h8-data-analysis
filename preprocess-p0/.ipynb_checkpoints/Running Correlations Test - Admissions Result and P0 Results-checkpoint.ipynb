{
 "cells": [
  {
   "cell_type": "markdown",
   "metadata": {},
   "source": [
    "# Imports and Reading Data"
   ]
  },
  {
   "cell_type": "code",
   "execution_count": 60,
   "metadata": {},
   "outputs": [],
   "source": [
    "#Packages needed\n",
    "import pandas as pd\n",
    "import numpy as np\n",
    "import math\n",
    "import matplotlib\n",
    "import matplotlib.pyplot as plt\n",
    "import scipy.stats as stats\n",
    "%matplotlib inline\n",
    "matplotlib.style.use('ggplot')"
   ]
  },
  {
   "cell_type": "code",
   "execution_count": 61,
   "metadata": {},
   "outputs": [],
   "source": [
    "# Read data from csv\n",
    "df_admission = pd.read_csv('admission-data.csv',skipinitialspace=True,delimiter=\";\")\n",
    "df_result = pd.read_csv('p0-result.csv',skipinitialspace=True,delimiter=\";\")"
   ]
  },
  {
   "cell_type": "code",
   "execution_count": 62,
   "metadata": {},
   "outputs": [
    {
     "name": "stdout",
     "output_type": "stream",
     "text": [
      "     Student Name Program Type  Interview Interview Result  Logic  \\\n",
      "0         Mundur           ISA          3             Good     19   \n",
      "1  Imanuel N Jodi          ISA          3             Good     13   \n",
      "\n",
      "   Patterns-Sequences  Percentages  Syllogism  Logic-Gate  Loop  Venn  English  \n",
      "0                   4            2          2           3     8     0        3  \n",
      "1                   3            2          1           1     6     0        3  \n"
     ]
    }
   ],
   "source": [
    "print(df_admission.head(2))"
   ]
  },
  {
   "cell_type": "code",
   "execution_count": 63,
   "metadata": {},
   "outputs": [
    {
     "name": "stdout",
     "output_type": "stream",
     "text": [
      "              Name  Final Score  Status Unnamed: 3\n",
      "0  Satyo Wicaksana          117       1        NaN\n",
      "1    Kevin Anantha          117       1        NaN\n",
      "2         Dipadana          116       1        NaN\n"
     ]
    }
   ],
   "source": [
    "print(df_result.head(3))"
   ]
  },
  {
   "cell_type": "code",
   "execution_count": 64,
   "metadata": {},
   "outputs": [
    {
     "name": "stdout",
     "output_type": "stream",
     "text": [
      "              Name  Final Score  Status\n",
      "0  Satyo Wicaksana          117       1\n",
      "1    Kevin Anantha          117       1\n",
      "2         Dipadana          116       1\n"
     ]
    }
   ],
   "source": [
    "# Drop unnamed column/ Column full of NAs\n",
    "df_result = df_result.dropna(how='any', axis='columns')\n",
    "print(df_result.head(3))"
   ]
  },
  {
   "cell_type": "markdown",
   "metadata": {},
   "source": [
    "# Description of Columns in the Data"
   ]
  },
  {
   "cell_type": "markdown",
   "metadata": {},
   "source": [
    "## Admissions Data\n",
    "\n",
    "1. Student Name: Student's Name\n",
    "2. Program Type: Program the student is admitted into\n",
    "3. Interview:  Coded result of the interview, where\n",
    "          1. 3 represents a \"Good\" Interview\n",
    "          2. 2 represents an \"Okay\" Interview\n",
    "          3. 1 represents a \"Bad\" Interview\n",
    "          4. 0 represents \"No Interview\" for whatever reason\n",
    "4. Interview Result the interview results before coded\n",
    "5. Logic: The total score for the Logic Test (out of 20), this is then divided into 6 sections:\n",
    "          1. Patterns & Sequences, with a maximum score of 4 out of 4 questions\n",
    "          2. Percentages, with a maximum score of 2 out of 2 questions\n",
    "          3. Syllogism, with a maximum score of 2 out of 2 questions\n",
    "          4. Logic Gate, with a maximum score of 3 out of 3 questions\n",
    "          5. Loop & Flow, with a maximum score of 8 out of 8 questions\n",
    "          6. Venn Diagram, with a maximum score of 1 out of 1 questions\n",
    "6. English: The English Test result, divided into: \n",
    "          1. 3 represents a \"Good\" English Test score\n",
    "          2. 2 represents an \"Okay\" English Test score\n",
    "          3. 1 represents a \"Bad\" English Test score\n",
    "          4. 0 represents No English Test score/didn't fill in"
   ]
  },
  {
   "cell_type": "markdown",
   "metadata": {},
   "source": [
    "## Phase 0 Result Data set\n",
    "1. Name: Student's Name\n",
    "2. Final Score: The Final Score of the students\n",
    "3. Status:\n",
    "    - 1 Represents passing phase 0\n",
    "    - 0 Represents failing phase 0"
   ]
  },
  {
   "cell_type": "markdown",
   "metadata": {},
   "source": [
    "# Data Cleaning Steps"
   ]
  },
  {
   "cell_type": "markdown",
   "metadata": {},
   "source": [
    "## Results Data"
   ]
  },
  {
   "cell_type": "code",
   "execution_count": 65,
   "metadata": {},
   "outputs": [],
   "source": [
    "#loop through names in result-dataframe, and delete any instances of *, $, #, etc in the data\n",
    "#For every name inside the Name column, we remove whitespaces, make the name in title format, remove unneccesary characters.\n",
    "remove_these=['$','*','#']\n",
    "result = []\n",
    "for name in df_result['Name']:\n",
    "    name = name.title()\n",
    "    for char in remove_these:\n",
    "        name = name.replace(char,\"\")\n",
    "    name = name.strip()\n",
    "    result.append(name)"
   ]
  },
  {
   "cell_type": "code",
   "execution_count": 66,
   "metadata": {},
   "outputs": [],
   "source": [
    "#print(result)"
   ]
  },
  {
   "cell_type": "code",
   "execution_count": 67,
   "metadata": {},
   "outputs": [],
   "source": [
    "#Assign the new cleaned Names into the dataframe\n",
    "df_result['Name'] = result"
   ]
  },
  {
   "cell_type": "code",
   "execution_count": 68,
   "metadata": {},
   "outputs": [
    {
     "name": "stdout",
     "output_type": "stream",
     "text": [
      "              Name  Final Score  Status\n",
      "0  Satyo Wicaksana          117       1\n",
      "1    Kevin Anantha          117       1\n",
      "2         Dipadana          116       1\n",
      "3     Evans Karlin          116       1\n",
      "4     Indra Aditya          116       1\n"
     ]
    }
   ],
   "source": [
    "print(df_result.head(5))"
   ]
  },
  {
   "cell_type": "markdown",
   "metadata": {},
   "source": [
    "## Admissions Data"
   ]
  },
  {
   "cell_type": "code",
   "execution_count": 69,
   "metadata": {},
   "outputs": [],
   "source": [
    "#Repeat cleaning process for Names inside of Admissions Data\n",
    "remove_these=['$','*','#']\n",
    "result = []\n",
    "for name in df_admission[\"Student Name\"]:\n",
    "    name = name.title()\n",
    "    for char in remove_these:\n",
    "        name = name.replace(char,\"\")\n",
    "    name = name.strip()\n",
    "    result.append(name)\n",
    "#Put the cleaned results back into the dataframe\n",
    "df_admission[\"Student Name\"] = result"
   ]
  },
  {
   "cell_type": "code",
   "execution_count": 70,
   "metadata": {
    "scrolled": true
   },
   "outputs": [
    {
     "name": "stdout",
     "output_type": "stream",
     "text": [
      "                   Student Name Program Type  Interview Interview Result  \\\n",
      "0                        Mundur          ISA          3             Good   \n",
      "1                Imanuel N Jodi          ISA          3             Good   \n",
      "2  Syahril Irfani Fattah Fattah     Facebook          3             Good   \n",
      "3          Saldhy Yoga Prathama     Facebook          3             Good   \n",
      "4                Angela Vanessa      Regular          3             Good   \n",
      "\n",
      "   Logic  Patterns-Sequences  Percentages  Syllogism  Logic-Gate  Loop  Venn  \\\n",
      "0     19                   4            2          2           3     8     0   \n",
      "1     13                   3            2          1           1     6     0   \n",
      "2     10                   2            1          0           2     6     0   \n",
      "3     10                   2            1          1           1     4     1   \n",
      "4     11                   3            0          1           1     6     0   \n",
      "\n",
      "   English  \n",
      "0        3  \n",
      "1        3  \n",
      "2        3  \n",
      "3        3  \n",
      "4        3  \n"
     ]
    }
   ],
   "source": [
    "print(df_admission.head(5))"
   ]
  },
  {
   "cell_type": "markdown",
   "metadata": {},
   "source": [
    "## Matching between Admissions and Results Data"
   ]
  },
  {
   "cell_type": "markdown",
   "metadata": {},
   "source": [
    "In this step, we match the names between the 2 datasets, and add/match the phase 0 results to the admissions data"
   ]
  },
  {
   "cell_type": "code",
   "execution_count": 71,
   "metadata": {},
   "outputs": [
    {
     "name": "stdout",
     "output_type": "stream",
     "text": [
      "              Student Name Program Type  Interview Interview Result  Logic  \\\n",
      "0           Imanuel N Jodi          ISA          3             Good     13   \n",
      "1           Angela Vanessa      Regular          3             Good     11   \n",
      "2            Aldi Nofrizal          ISA          3             Good     14   \n",
      "3           Syarief Arifin          ISA          0  Not Interviewed     15   \n",
      "4  Muhammad Faisal Firdani          ISA          3             Good     12   \n",
      "\n",
      "   Patterns-Sequences  Percentages  Syllogism  Logic-Gate  Loop  Venn  \\\n",
      "0                   3            2          1           1     6     0   \n",
      "1                   3            0          1           1     6     0   \n",
      "2                   3            1          1           2     6     1   \n",
      "3                   2            1          2           3     7     0   \n",
      "4                   4            1          2           3     4     0   \n",
      "\n",
      "   English                     Name  Final Score  Status  \n",
      "0        3           Imanuel N Jodi           71       1  \n",
      "1        3           Angela Vanessa          100       1  \n",
      "2        3            Aldi Nofrizal          114       1  \n",
      "3        3           Syarief Arifin           53       0  \n",
      "4        2  Muhammad Faisal Firdani           83       1  \n"
     ]
    }
   ],
   "source": [
    "# Use the merge function from pandas dataframe to merge both dataframes\n",
    "merged_inner = pd.merge(left=df_admission, right=df_result, left_on='Student Name', right_on='Name')\n",
    "print(merged_inner.head(5))"
   ]
  },
  {
   "cell_type": "markdown",
   "metadata": {},
   "source": [
    "merged_inner is a new dataframe containing the inner joined values of both dataset"
   ]
  },
  {
   "cell_type": "code",
   "execution_count": 72,
   "metadata": {},
   "outputs": [],
   "source": [
    "# Troubleshooting -> check both combined files\n",
    "#merged_inner.to_csv('combined.csv', sep = ';')"
   ]
  },
  {
   "cell_type": "markdown",
   "metadata": {},
   "source": [
    "There are some duplicates in the new dataframe, this happened because some students repeated Phase 0"
   ]
  },
  {
   "cell_type": "markdown",
   "metadata": {},
   "source": [
    "## Removing Duplicate rows and Columns"
   ]
  },
  {
   "cell_type": "markdown",
   "metadata": {},
   "source": [
    "Because some students repeated phase 0, only the latest occurence of the student will be selected"
   ]
  },
  {
   "cell_type": "code",
   "execution_count": 73,
   "metadata": {},
   "outputs": [
    {
     "data": {
      "text/html": [
       "<div>\n",
       "<style scoped>\n",
       "    .dataframe tbody tr th:only-of-type {\n",
       "        vertical-align: middle;\n",
       "    }\n",
       "\n",
       "    .dataframe tbody tr th {\n",
       "        vertical-align: top;\n",
       "    }\n",
       "\n",
       "    .dataframe thead th {\n",
       "        text-align: right;\n",
       "    }\n",
       "</style>\n",
       "<table border=\"1\" class=\"dataframe\">\n",
       "  <thead>\n",
       "    <tr style=\"text-align: right;\">\n",
       "      <th></th>\n",
       "      <th>Student Name</th>\n",
       "      <th>Program Type</th>\n",
       "      <th>Interview</th>\n",
       "      <th>Interview Result</th>\n",
       "      <th>Logic</th>\n",
       "      <th>Patterns-Sequences</th>\n",
       "      <th>Percentages</th>\n",
       "      <th>Syllogism</th>\n",
       "      <th>Logic-Gate</th>\n",
       "      <th>Loop</th>\n",
       "      <th>Venn</th>\n",
       "      <th>English</th>\n",
       "      <th>Name</th>\n",
       "      <th>Final Score</th>\n",
       "      <th>Status</th>\n",
       "    </tr>\n",
       "  </thead>\n",
       "  <tbody>\n",
       "    <tr>\n",
       "      <td>0</td>\n",
       "      <td>Imanuel N Jodi</td>\n",
       "      <td>ISA</td>\n",
       "      <td>3</td>\n",
       "      <td>Good</td>\n",
       "      <td>13</td>\n",
       "      <td>3</td>\n",
       "      <td>2</td>\n",
       "      <td>1</td>\n",
       "      <td>1</td>\n",
       "      <td>6</td>\n",
       "      <td>0</td>\n",
       "      <td>3</td>\n",
       "      <td>Imanuel N Jodi</td>\n",
       "      <td>71</td>\n",
       "      <td>1</td>\n",
       "    </tr>\n",
       "    <tr>\n",
       "      <td>1</td>\n",
       "      <td>Angela Vanessa</td>\n",
       "      <td>Regular</td>\n",
       "      <td>3</td>\n",
       "      <td>Good</td>\n",
       "      <td>11</td>\n",
       "      <td>3</td>\n",
       "      <td>0</td>\n",
       "      <td>1</td>\n",
       "      <td>1</td>\n",
       "      <td>6</td>\n",
       "      <td>0</td>\n",
       "      <td>3</td>\n",
       "      <td>Angela Vanessa</td>\n",
       "      <td>100</td>\n",
       "      <td>1</td>\n",
       "    </tr>\n",
       "    <tr>\n",
       "      <td>2</td>\n",
       "      <td>Aldi Nofrizal</td>\n",
       "      <td>ISA</td>\n",
       "      <td>3</td>\n",
       "      <td>Good</td>\n",
       "      <td>14</td>\n",
       "      <td>3</td>\n",
       "      <td>1</td>\n",
       "      <td>1</td>\n",
       "      <td>2</td>\n",
       "      <td>6</td>\n",
       "      <td>1</td>\n",
       "      <td>3</td>\n",
       "      <td>Aldi Nofrizal</td>\n",
       "      <td>114</td>\n",
       "      <td>1</td>\n",
       "    </tr>\n",
       "    <tr>\n",
       "      <td>3</td>\n",
       "      <td>Syarief Arifin</td>\n",
       "      <td>ISA</td>\n",
       "      <td>0</td>\n",
       "      <td>Not Interviewed</td>\n",
       "      <td>15</td>\n",
       "      <td>2</td>\n",
       "      <td>1</td>\n",
       "      <td>2</td>\n",
       "      <td>3</td>\n",
       "      <td>7</td>\n",
       "      <td>0</td>\n",
       "      <td>3</td>\n",
       "      <td>Syarief Arifin</td>\n",
       "      <td>53</td>\n",
       "      <td>0</td>\n",
       "    </tr>\n",
       "    <tr>\n",
       "      <td>4</td>\n",
       "      <td>Muhammad Faisal Firdani</td>\n",
       "      <td>ISA</td>\n",
       "      <td>3</td>\n",
       "      <td>Good</td>\n",
       "      <td>12</td>\n",
       "      <td>4</td>\n",
       "      <td>1</td>\n",
       "      <td>2</td>\n",
       "      <td>3</td>\n",
       "      <td>4</td>\n",
       "      <td>0</td>\n",
       "      <td>2</td>\n",
       "      <td>Muhammad Faisal Firdani</td>\n",
       "      <td>83</td>\n",
       "      <td>1</td>\n",
       "    </tr>\n",
       "    <tr>\n",
       "      <td>...</td>\n",
       "      <td>...</td>\n",
       "      <td>...</td>\n",
       "      <td>...</td>\n",
       "      <td>...</td>\n",
       "      <td>...</td>\n",
       "      <td>...</td>\n",
       "      <td>...</td>\n",
       "      <td>...</td>\n",
       "      <td>...</td>\n",
       "      <td>...</td>\n",
       "      <td>...</td>\n",
       "      <td>...</td>\n",
       "      <td>...</td>\n",
       "      <td>...</td>\n",
       "      <td>...</td>\n",
       "    </tr>\n",
       "    <tr>\n",
       "      <td>183</td>\n",
       "      <td>Bhakti Budiman Novanda</td>\n",
       "      <td>ISA</td>\n",
       "      <td>3</td>\n",
       "      <td>Good</td>\n",
       "      <td>14</td>\n",
       "      <td>4</td>\n",
       "      <td>0</td>\n",
       "      <td>2</td>\n",
       "      <td>2</td>\n",
       "      <td>6</td>\n",
       "      <td>0</td>\n",
       "      <td>3</td>\n",
       "      <td>Bhakti Budiman Novanda</td>\n",
       "      <td>91</td>\n",
       "      <td>1</td>\n",
       "    </tr>\n",
       "    <tr>\n",
       "      <td>184</td>\n",
       "      <td>Zidni Kadir</td>\n",
       "      <td>Regular</td>\n",
       "      <td>3</td>\n",
       "      <td>Good</td>\n",
       "      <td>10</td>\n",
       "      <td>3</td>\n",
       "      <td>0</td>\n",
       "      <td>2</td>\n",
       "      <td>1</td>\n",
       "      <td>4</td>\n",
       "      <td>0</td>\n",
       "      <td>3</td>\n",
       "      <td>Zidni Kadir</td>\n",
       "      <td>45</td>\n",
       "      <td>0</td>\n",
       "    </tr>\n",
       "    <tr>\n",
       "      <td>185</td>\n",
       "      <td>M Romzi Fauzi Lubis</td>\n",
       "      <td>Regular</td>\n",
       "      <td>2</td>\n",
       "      <td>Okay</td>\n",
       "      <td>11</td>\n",
       "      <td>4</td>\n",
       "      <td>0</td>\n",
       "      <td>1</td>\n",
       "      <td>2</td>\n",
       "      <td>4</td>\n",
       "      <td>0</td>\n",
       "      <td>3</td>\n",
       "      <td>M Romzi Fauzi Lubis</td>\n",
       "      <td>65</td>\n",
       "      <td>1</td>\n",
       "    </tr>\n",
       "    <tr>\n",
       "      <td>186</td>\n",
       "      <td>Andre Gunawan</td>\n",
       "      <td>Regular</td>\n",
       "      <td>3</td>\n",
       "      <td>Good</td>\n",
       "      <td>15</td>\n",
       "      <td>4</td>\n",
       "      <td>2</td>\n",
       "      <td>2</td>\n",
       "      <td>2</td>\n",
       "      <td>5</td>\n",
       "      <td>0</td>\n",
       "      <td>3</td>\n",
       "      <td>Andre Gunawan</td>\n",
       "      <td>73</td>\n",
       "      <td>1</td>\n",
       "    </tr>\n",
       "    <tr>\n",
       "      <td>187</td>\n",
       "      <td>Felix Winangun</td>\n",
       "      <td>Regular</td>\n",
       "      <td>3</td>\n",
       "      <td>Good</td>\n",
       "      <td>17</td>\n",
       "      <td>3</td>\n",
       "      <td>1</td>\n",
       "      <td>2</td>\n",
       "      <td>1</td>\n",
       "      <td>8</td>\n",
       "      <td>0</td>\n",
       "      <td>3</td>\n",
       "      <td>Felix Winangun</td>\n",
       "      <td>103</td>\n",
       "      <td>1</td>\n",
       "    </tr>\n",
       "  </tbody>\n",
       "</table>\n",
       "<p>165 rows × 15 columns</p>\n",
       "</div>"
      ],
      "text/plain": [
       "                Student Name Program Type  Interview Interview Result  Logic  \\\n",
       "0             Imanuel N Jodi          ISA          3             Good     13   \n",
       "1             Angela Vanessa      Regular          3             Good     11   \n",
       "2              Aldi Nofrizal          ISA          3             Good     14   \n",
       "3             Syarief Arifin          ISA          0  Not Interviewed     15   \n",
       "4    Muhammad Faisal Firdani          ISA          3             Good     12   \n",
       "..                       ...          ...        ...              ...    ...   \n",
       "183   Bhakti Budiman Novanda          ISA          3             Good     14   \n",
       "184              Zidni Kadir      Regular          3             Good     10   \n",
       "185      M Romzi Fauzi Lubis      Regular          2             Okay     11   \n",
       "186            Andre Gunawan      Regular          3             Good     15   \n",
       "187           Felix Winangun      Regular          3             Good     17   \n",
       "\n",
       "     Patterns-Sequences  Percentages  Syllogism  Logic-Gate  Loop  Venn  \\\n",
       "0                     3            2          1           1     6     0   \n",
       "1                     3            0          1           1     6     0   \n",
       "2                     3            1          1           2     6     1   \n",
       "3                     2            1          2           3     7     0   \n",
       "4                     4            1          2           3     4     0   \n",
       "..                  ...          ...        ...         ...   ...   ...   \n",
       "183                   4            0          2           2     6     0   \n",
       "184                   3            0          2           1     4     0   \n",
       "185                   4            0          1           2     4     0   \n",
       "186                   4            2          2           2     5     0   \n",
       "187                   3            1          2           1     8     0   \n",
       "\n",
       "     English                     Name  Final Score  Status  \n",
       "0          3           Imanuel N Jodi           71       1  \n",
       "1          3           Angela Vanessa          100       1  \n",
       "2          3            Aldi Nofrizal          114       1  \n",
       "3          3           Syarief Arifin           53       0  \n",
       "4          2  Muhammad Faisal Firdani           83       1  \n",
       "..       ...                      ...          ...     ...  \n",
       "183        3   Bhakti Budiman Novanda           91       1  \n",
       "184        3              Zidni Kadir           45       0  \n",
       "185        3      M Romzi Fauzi Lubis           65       1  \n",
       "186        3            Andre Gunawan           73       1  \n",
       "187        3           Felix Winangun          103       1  \n",
       "\n",
       "[165 rows x 15 columns]"
      ]
     },
     "execution_count": 73,
     "metadata": {},
     "output_type": "execute_result"
    }
   ],
   "source": [
    "cleaned_dataframe = merged_inner.drop_duplicates(subset = ['Student Name'], keep = 'last')\n",
    "cleaned_dataframe #to check contents of the cleaned dataframe "
   ]
  },
  {
   "cell_type": "markdown",
   "metadata": {},
   "source": [
    "We dropped 24 duplicate rows. From 189 initial cleaned rows"
   ]
  },
  {
   "cell_type": "code",
   "execution_count": 74,
   "metadata": {},
   "outputs": [],
   "source": [
    "#Drop Name Column, because it's a duplicate of Student Name\n",
    "cleaned_dataframe = cleaned_dataframe.drop(labels = 'Name', axis=1)"
   ]
  },
  {
   "cell_type": "code",
   "execution_count": 75,
   "metadata": {},
   "outputs": [
    {
     "data": {
      "text/html": [
       "<div>\n",
       "<style scoped>\n",
       "    .dataframe tbody tr th:only-of-type {\n",
       "        vertical-align: middle;\n",
       "    }\n",
       "\n",
       "    .dataframe tbody tr th {\n",
       "        vertical-align: top;\n",
       "    }\n",
       "\n",
       "    .dataframe thead th {\n",
       "        text-align: right;\n",
       "    }\n",
       "</style>\n",
       "<table border=\"1\" class=\"dataframe\">\n",
       "  <thead>\n",
       "    <tr style=\"text-align: right;\">\n",
       "      <th></th>\n",
       "      <th>Student Name</th>\n",
       "      <th>Program Type</th>\n",
       "      <th>Interview</th>\n",
       "      <th>Interview Result</th>\n",
       "      <th>Logic</th>\n",
       "      <th>Patterns-Sequences</th>\n",
       "      <th>Percentages</th>\n",
       "      <th>Syllogism</th>\n",
       "      <th>Logic-Gate</th>\n",
       "      <th>Loop</th>\n",
       "      <th>Venn</th>\n",
       "      <th>English</th>\n",
       "      <th>Final Score</th>\n",
       "      <th>Status</th>\n",
       "    </tr>\n",
       "  </thead>\n",
       "  <tbody>\n",
       "    <tr>\n",
       "      <td>0</td>\n",
       "      <td>Imanuel N Jodi</td>\n",
       "      <td>ISA</td>\n",
       "      <td>3</td>\n",
       "      <td>Good</td>\n",
       "      <td>13</td>\n",
       "      <td>3</td>\n",
       "      <td>2</td>\n",
       "      <td>1</td>\n",
       "      <td>1</td>\n",
       "      <td>6</td>\n",
       "      <td>0</td>\n",
       "      <td>3</td>\n",
       "      <td>71</td>\n",
       "      <td>1</td>\n",
       "    </tr>\n",
       "    <tr>\n",
       "      <td>1</td>\n",
       "      <td>Angela Vanessa</td>\n",
       "      <td>Regular</td>\n",
       "      <td>3</td>\n",
       "      <td>Good</td>\n",
       "      <td>11</td>\n",
       "      <td>3</td>\n",
       "      <td>0</td>\n",
       "      <td>1</td>\n",
       "      <td>1</td>\n",
       "      <td>6</td>\n",
       "      <td>0</td>\n",
       "      <td>3</td>\n",
       "      <td>100</td>\n",
       "      <td>1</td>\n",
       "    </tr>\n",
       "    <tr>\n",
       "      <td>2</td>\n",
       "      <td>Aldi Nofrizal</td>\n",
       "      <td>ISA</td>\n",
       "      <td>3</td>\n",
       "      <td>Good</td>\n",
       "      <td>14</td>\n",
       "      <td>3</td>\n",
       "      <td>1</td>\n",
       "      <td>1</td>\n",
       "      <td>2</td>\n",
       "      <td>6</td>\n",
       "      <td>1</td>\n",
       "      <td>3</td>\n",
       "      <td>114</td>\n",
       "      <td>1</td>\n",
       "    </tr>\n",
       "    <tr>\n",
       "      <td>3</td>\n",
       "      <td>Syarief Arifin</td>\n",
       "      <td>ISA</td>\n",
       "      <td>0</td>\n",
       "      <td>Not Interviewed</td>\n",
       "      <td>15</td>\n",
       "      <td>2</td>\n",
       "      <td>1</td>\n",
       "      <td>2</td>\n",
       "      <td>3</td>\n",
       "      <td>7</td>\n",
       "      <td>0</td>\n",
       "      <td>3</td>\n",
       "      <td>53</td>\n",
       "      <td>0</td>\n",
       "    </tr>\n",
       "    <tr>\n",
       "      <td>4</td>\n",
       "      <td>Muhammad Faisal Firdani</td>\n",
       "      <td>ISA</td>\n",
       "      <td>3</td>\n",
       "      <td>Good</td>\n",
       "      <td>12</td>\n",
       "      <td>4</td>\n",
       "      <td>1</td>\n",
       "      <td>2</td>\n",
       "      <td>3</td>\n",
       "      <td>4</td>\n",
       "      <td>0</td>\n",
       "      <td>2</td>\n",
       "      <td>83</td>\n",
       "      <td>1</td>\n",
       "    </tr>\n",
       "    <tr>\n",
       "      <td>...</td>\n",
       "      <td>...</td>\n",
       "      <td>...</td>\n",
       "      <td>...</td>\n",
       "      <td>...</td>\n",
       "      <td>...</td>\n",
       "      <td>...</td>\n",
       "      <td>...</td>\n",
       "      <td>...</td>\n",
       "      <td>...</td>\n",
       "      <td>...</td>\n",
       "      <td>...</td>\n",
       "      <td>...</td>\n",
       "      <td>...</td>\n",
       "      <td>...</td>\n",
       "    </tr>\n",
       "    <tr>\n",
       "      <td>183</td>\n",
       "      <td>Bhakti Budiman Novanda</td>\n",
       "      <td>ISA</td>\n",
       "      <td>3</td>\n",
       "      <td>Good</td>\n",
       "      <td>14</td>\n",
       "      <td>4</td>\n",
       "      <td>0</td>\n",
       "      <td>2</td>\n",
       "      <td>2</td>\n",
       "      <td>6</td>\n",
       "      <td>0</td>\n",
       "      <td>3</td>\n",
       "      <td>91</td>\n",
       "      <td>1</td>\n",
       "    </tr>\n",
       "    <tr>\n",
       "      <td>184</td>\n",
       "      <td>Zidni Kadir</td>\n",
       "      <td>Regular</td>\n",
       "      <td>3</td>\n",
       "      <td>Good</td>\n",
       "      <td>10</td>\n",
       "      <td>3</td>\n",
       "      <td>0</td>\n",
       "      <td>2</td>\n",
       "      <td>1</td>\n",
       "      <td>4</td>\n",
       "      <td>0</td>\n",
       "      <td>3</td>\n",
       "      <td>45</td>\n",
       "      <td>0</td>\n",
       "    </tr>\n",
       "    <tr>\n",
       "      <td>185</td>\n",
       "      <td>M Romzi Fauzi Lubis</td>\n",
       "      <td>Regular</td>\n",
       "      <td>2</td>\n",
       "      <td>Okay</td>\n",
       "      <td>11</td>\n",
       "      <td>4</td>\n",
       "      <td>0</td>\n",
       "      <td>1</td>\n",
       "      <td>2</td>\n",
       "      <td>4</td>\n",
       "      <td>0</td>\n",
       "      <td>3</td>\n",
       "      <td>65</td>\n",
       "      <td>1</td>\n",
       "    </tr>\n",
       "    <tr>\n",
       "      <td>186</td>\n",
       "      <td>Andre Gunawan</td>\n",
       "      <td>Regular</td>\n",
       "      <td>3</td>\n",
       "      <td>Good</td>\n",
       "      <td>15</td>\n",
       "      <td>4</td>\n",
       "      <td>2</td>\n",
       "      <td>2</td>\n",
       "      <td>2</td>\n",
       "      <td>5</td>\n",
       "      <td>0</td>\n",
       "      <td>3</td>\n",
       "      <td>73</td>\n",
       "      <td>1</td>\n",
       "    </tr>\n",
       "    <tr>\n",
       "      <td>187</td>\n",
       "      <td>Felix Winangun</td>\n",
       "      <td>Regular</td>\n",
       "      <td>3</td>\n",
       "      <td>Good</td>\n",
       "      <td>17</td>\n",
       "      <td>3</td>\n",
       "      <td>1</td>\n",
       "      <td>2</td>\n",
       "      <td>1</td>\n",
       "      <td>8</td>\n",
       "      <td>0</td>\n",
       "      <td>3</td>\n",
       "      <td>103</td>\n",
       "      <td>1</td>\n",
       "    </tr>\n",
       "  </tbody>\n",
       "</table>\n",
       "<p>165 rows × 14 columns</p>\n",
       "</div>"
      ],
      "text/plain": [
       "                Student Name Program Type  Interview Interview Result  Logic  \\\n",
       "0             Imanuel N Jodi          ISA          3             Good     13   \n",
       "1             Angela Vanessa      Regular          3             Good     11   \n",
       "2              Aldi Nofrizal          ISA          3             Good     14   \n",
       "3             Syarief Arifin          ISA          0  Not Interviewed     15   \n",
       "4    Muhammad Faisal Firdani          ISA          3             Good     12   \n",
       "..                       ...          ...        ...              ...    ...   \n",
       "183   Bhakti Budiman Novanda          ISA          3             Good     14   \n",
       "184              Zidni Kadir      Regular          3             Good     10   \n",
       "185      M Romzi Fauzi Lubis      Regular          2             Okay     11   \n",
       "186            Andre Gunawan      Regular          3             Good     15   \n",
       "187           Felix Winangun      Regular          3             Good     17   \n",
       "\n",
       "     Patterns-Sequences  Percentages  Syllogism  Logic-Gate  Loop  Venn  \\\n",
       "0                     3            2          1           1     6     0   \n",
       "1                     3            0          1           1     6     0   \n",
       "2                     3            1          1           2     6     1   \n",
       "3                     2            1          2           3     7     0   \n",
       "4                     4            1          2           3     4     0   \n",
       "..                  ...          ...        ...         ...   ...   ...   \n",
       "183                   4            0          2           2     6     0   \n",
       "184                   3            0          2           1     4     0   \n",
       "185                   4            0          1           2     4     0   \n",
       "186                   4            2          2           2     5     0   \n",
       "187                   3            1          2           1     8     0   \n",
       "\n",
       "     English  Final Score  Status  \n",
       "0          3           71       1  \n",
       "1          3          100       1  \n",
       "2          3          114       1  \n",
       "3          3           53       0  \n",
       "4          2           83       1  \n",
       "..       ...          ...     ...  \n",
       "183        3           91       1  \n",
       "184        3           45       0  \n",
       "185        3           65       1  \n",
       "186        3           73       1  \n",
       "187        3          103       1  \n",
       "\n",
       "[165 rows x 14 columns]"
      ]
     },
     "execution_count": 75,
     "metadata": {},
     "output_type": "execute_result"
    }
   ],
   "source": [
    "cleaned_dataframe #Dataframe with Names Dropped"
   ]
  },
  {
   "cell_type": "code",
   "execution_count": 94,
   "metadata": {},
   "outputs": [],
   "source": [
    "# Save Data Cleaning Result\n",
    "cleaned_dataframe.to_csv('cleaned-combined.csv', sep = ';')"
   ]
  },
  {
   "cell_type": "markdown",
   "metadata": {},
   "source": [
    "# Data Summary"
   ]
  },
  {
   "cell_type": "code",
   "execution_count": 96,
   "metadata": {},
   "outputs": [
    {
     "name": "stdout",
     "output_type": "stream",
     "text": [
      "        Interview       Logic  Patterns-Sequences  Percentages   Syllogism  \\\n",
      "count  165.000000  165.000000          165.000000   165.000000  165.000000   \n",
      "mean     2.751515   13.703030            3.436364     1.303030    1.466667   \n",
      "std      0.647755    2.376779            0.683346     0.638446    0.610211   \n",
      "min      0.000000   10.000000            0.000000     0.000000    0.000000   \n",
      "25%      3.000000   12.000000            3.000000     1.000000    1.000000   \n",
      "50%      3.000000   14.000000            4.000000     1.000000    2.000000   \n",
      "75%      3.000000   15.000000            4.000000     2.000000    2.000000   \n",
      "max      3.000000   19.000000            4.000000     2.000000    2.000000   \n",
      "\n",
      "       Logic-Gate        Loop        Venn     English  Final Score      Status  \n",
      "count  165.000000  165.000000  165.000000  165.000000   165.000000  165.000000  \n",
      "mean     1.945455    5.387879    0.133333    2.690909    76.424242    0.696970  \n",
      "std      0.951600    1.500357    0.340969    0.659066    27.100570    0.460967  \n",
      "min      0.000000    1.000000    0.000000    0.000000     2.000000    0.000000  \n",
      "25%      1.000000    5.000000    0.000000    3.000000    61.000000    0.000000  \n",
      "50%      2.000000    6.000000    0.000000    3.000000    82.000000    1.000000  \n",
      "75%      3.000000    6.000000    0.000000    3.000000    99.000000    1.000000  \n",
      "max      3.000000    8.000000    1.000000    3.000000   117.000000    1.000000  \n"
     ]
    }
   ],
   "source": [
    "print(cleaned_dataframe.describe())"
   ]
  },
  {
   "cell_type": "code",
   "execution_count": 99,
   "metadata": {},
   "outputs": [
    {
     "data": {
      "text/plain": [
       "(array([ 3.,  5., 12.,  5., 15., 21., 23., 31., 32., 18.]),\n",
       " array([  2. ,  13.5,  25. ,  36.5,  48. ,  59.5,  71. ,  82.5,  94. ,\n",
       "        105.5, 117. ]),\n",
       " <a list of 10 Patch objects>)"
      ]
     },
     "execution_count": 99,
     "metadata": {},
     "output_type": "execute_result"
    },
    {
     "data": {
      "image/png": "[encoded data removed]",
      "text/plain": [
       "<Figure size 432x288 with 1 Axes>"
      ]
     },
     "metadata": {},
     "output_type": "display_data"
    }
   ],
   "source": [
    "plt.hist(cleaned_dataframe['Final Score'])"
   ]
  },
  {
   "cell_type": "code",
   "execution_count": 100,
   "metadata": {},
   "outputs": [
    {
     "data": {
      "text/plain": [
       "(array([ 50.,   0.,   0.,   0.,   0.,   0.,   0.,   0.,   0., 115.]),\n",
       " array([0. , 0.1, 0.2, 0.3, 0.4, 0.5, 0.6, 0.7, 0.8, 0.9, 1. ]),\n",
       " <a list of 10 Patch objects>)"
      ]
     },
     "execution_count": 100,
     "metadata": {},
     "output_type": "execute_result"
    },
    {
     "data": {
      "image/png": "[encoded data removed]",
      "text/plain": [
       "<Figure size 432x288 with 1 Axes>"
      ]
     },
     "metadata": {},
     "output_type": "display_data"
    }
   ],
   "source": [
    "plt.hist(cleaned_dataframe['Status'])"
   ]
  },
  {
   "cell_type": "markdown",
   "metadata": {},
   "source": [
    "# Data Analysis"
   ]
  },
  {
   "cell_type": "markdown",
   "metadata": {},
   "source": [
    "## Correlation Test \n",
    "\n",
    "Since there is not enough data, Spearman correlation test is used instead of Pearson. The Spearman test does not need any assumptions about the data's normality. Many IVs in this data are ordinal but not continuous. Thus, the Spearman correlation test is the most suitable one for this."
   ]
  },
  {
   "cell_type": "code",
   "execution_count": 77,
   "metadata": {},
   "outputs": [
    {
     "data": {
      "text/html": [
       "<div>\n",
       "<style scoped>\n",
       "    .dataframe tbody tr th:only-of-type {\n",
       "        vertical-align: middle;\n",
       "    }\n",
       "\n",
       "    .dataframe tbody tr th {\n",
       "        vertical-align: top;\n",
       "    }\n",
       "\n",
       "    .dataframe thead th {\n",
       "        text-align: right;\n",
       "    }\n",
       "</style>\n",
       "<table border=\"1\" class=\"dataframe\">\n",
       "  <thead>\n",
       "    <tr style=\"text-align: right;\">\n",
       "      <th></th>\n",
       "      <th>Interview</th>\n",
       "      <th>Logic</th>\n",
       "      <th>Patterns-Sequences</th>\n",
       "      <th>Percentages</th>\n",
       "      <th>Syllogism</th>\n",
       "      <th>Logic-Gate</th>\n",
       "      <th>Loop</th>\n",
       "      <th>Venn</th>\n",
       "      <th>English</th>\n",
       "      <th>Final Score</th>\n",
       "      <th>Status</th>\n",
       "    </tr>\n",
       "  </thead>\n",
       "  <tbody>\n",
       "    <tr>\n",
       "      <td>Interview</td>\n",
       "      <td>1.000000</td>\n",
       "      <td>0.026331</td>\n",
       "      <td>0.108701</td>\n",
       "      <td>0.068827</td>\n",
       "      <td>0.050948</td>\n",
       "      <td>-0.185508</td>\n",
       "      <td>0.091852</td>\n",
       "      <td>0.176742</td>\n",
       "      <td>0.078962</td>\n",
       "      <td>0.111616</td>\n",
       "      <td>0.084043</td>\n",
       "    </tr>\n",
       "    <tr>\n",
       "      <td>Logic</td>\n",
       "      <td>0.026331</td>\n",
       "      <td>1.000000</td>\n",
       "      <td>0.391938</td>\n",
       "      <td>0.383809</td>\n",
       "      <td>0.205518</td>\n",
       "      <td>0.464049</td>\n",
       "      <td>0.759325</td>\n",
       "      <td>0.203412</td>\n",
       "      <td>0.217968</td>\n",
       "      <td>0.387689</td>\n",
       "      <td>0.248072</td>\n",
       "    </tr>\n",
       "    <tr>\n",
       "      <td>Patterns-Sequences</td>\n",
       "      <td>0.108701</td>\n",
       "      <td>0.391938</td>\n",
       "      <td>1.000000</td>\n",
       "      <td>0.090667</td>\n",
       "      <td>0.000451</td>\n",
       "      <td>0.278448</td>\n",
       "      <td>0.077109</td>\n",
       "      <td>0.025027</td>\n",
       "      <td>0.073735</td>\n",
       "      <td>0.076217</td>\n",
       "      <td>0.115273</td>\n",
       "    </tr>\n",
       "    <tr>\n",
       "      <td>Percentages</td>\n",
       "      <td>0.068827</td>\n",
       "      <td>0.383809</td>\n",
       "      <td>0.090667</td>\n",
       "      <td>1.000000</td>\n",
       "      <td>0.016227</td>\n",
       "      <td>0.026217</td>\n",
       "      <td>0.162236</td>\n",
       "      <td>0.029569</td>\n",
       "      <td>0.141924</td>\n",
       "      <td>0.072861</td>\n",
       "      <td>0.071159</td>\n",
       "    </tr>\n",
       "    <tr>\n",
       "      <td>Syllogism</td>\n",
       "      <td>0.050948</td>\n",
       "      <td>0.205518</td>\n",
       "      <td>0.000451</td>\n",
       "      <td>0.016227</td>\n",
       "      <td>1.000000</td>\n",
       "      <td>-0.100259</td>\n",
       "      <td>0.019841</td>\n",
       "      <td>-0.030453</td>\n",
       "      <td>0.189365</td>\n",
       "      <td>0.003279</td>\n",
       "      <td>-0.040045</td>\n",
       "    </tr>\n",
       "    <tr>\n",
       "      <td>Logic-Gate</td>\n",
       "      <td>-0.185508</td>\n",
       "      <td>0.464049</td>\n",
       "      <td>0.278448</td>\n",
       "      <td>0.026217</td>\n",
       "      <td>-0.100259</td>\n",
       "      <td>1.000000</td>\n",
       "      <td>0.064552</td>\n",
       "      <td>-0.018619</td>\n",
       "      <td>0.088207</td>\n",
       "      <td>0.151888</td>\n",
       "      <td>0.087077</td>\n",
       "    </tr>\n",
       "    <tr>\n",
       "      <td>Loop</td>\n",
       "      <td>0.091852</td>\n",
       "      <td>0.759325</td>\n",
       "      <td>0.077109</td>\n",
       "      <td>0.162236</td>\n",
       "      <td>0.019841</td>\n",
       "      <td>0.064552</td>\n",
       "      <td>1.000000</td>\n",
       "      <td>0.162298</td>\n",
       "      <td>0.163526</td>\n",
       "      <td>0.416292</td>\n",
       "      <td>0.269046</td>\n",
       "    </tr>\n",
       "    <tr>\n",
       "      <td>Venn</td>\n",
       "      <td>0.176742</td>\n",
       "      <td>0.203412</td>\n",
       "      <td>0.025027</td>\n",
       "      <td>0.029569</td>\n",
       "      <td>-0.030453</td>\n",
       "      <td>-0.018619</td>\n",
       "      <td>0.162298</td>\n",
       "      <td>1.000000</td>\n",
       "      <td>-0.045930</td>\n",
       "      <td>0.202957</td>\n",
       "      <td>0.142247</td>\n",
       "    </tr>\n",
       "    <tr>\n",
       "      <td>English</td>\n",
       "      <td>0.078962</td>\n",
       "      <td>0.217968</td>\n",
       "      <td>0.073735</td>\n",
       "      <td>0.141924</td>\n",
       "      <td>0.189365</td>\n",
       "      <td>0.088207</td>\n",
       "      <td>0.163526</td>\n",
       "      <td>-0.045930</td>\n",
       "      <td>1.000000</td>\n",
       "      <td>0.044240</td>\n",
       "      <td>-0.042089</td>\n",
       "    </tr>\n",
       "    <tr>\n",
       "      <td>Final Score</td>\n",
       "      <td>0.111616</td>\n",
       "      <td>0.387689</td>\n",
       "      <td>0.076217</td>\n",
       "      <td>0.072861</td>\n",
       "      <td>0.003279</td>\n",
       "      <td>0.151888</td>\n",
       "      <td>0.416292</td>\n",
       "      <td>0.202957</td>\n",
       "      <td>0.044240</td>\n",
       "      <td>1.000000</td>\n",
       "      <td>0.794106</td>\n",
       "    </tr>\n",
       "    <tr>\n",
       "      <td>Status</td>\n",
       "      <td>0.084043</td>\n",
       "      <td>0.248072</td>\n",
       "      <td>0.115273</td>\n",
       "      <td>0.071159</td>\n",
       "      <td>-0.040045</td>\n",
       "      <td>0.087077</td>\n",
       "      <td>0.269046</td>\n",
       "      <td>0.142247</td>\n",
       "      <td>-0.042089</td>\n",
       "      <td>0.794106</td>\n",
       "      <td>1.000000</td>\n",
       "    </tr>\n",
       "  </tbody>\n",
       "</table>\n",
       "</div>"
      ],
      "text/plain": [
       "                    Interview     Logic  Patterns-Sequences  Percentages  \\\n",
       "Interview            1.000000  0.026331            0.108701     0.068827   \n",
       "Logic                0.026331  1.000000            0.391938     0.383809   \n",
       "Patterns-Sequences   0.108701  0.391938            1.000000     0.090667   \n",
       "Percentages          0.068827  0.383809            0.090667     1.000000   \n",
       "Syllogism            0.050948  0.205518            0.000451     0.016227   \n",
       "Logic-Gate          -0.185508  0.464049            0.278448     0.026217   \n",
       "Loop                 0.091852  0.759325            0.077109     0.162236   \n",
       "Venn                 0.176742  0.203412            0.025027     0.029569   \n",
       "English              0.078962  0.217968            0.073735     0.141924   \n",
       "Final Score          0.111616  0.387689            0.076217     0.072861   \n",
       "Status               0.084043  0.248072            0.115273     0.071159   \n",
       "\n",
       "                    Syllogism  Logic-Gate      Loop      Venn   English  \\\n",
       "Interview            0.050948   -0.185508  0.091852  0.176742  0.078962   \n",
       "Logic                0.205518    0.464049  0.759325  0.203412  0.217968   \n",
       "Patterns-Sequences   0.000451    0.278448  0.077109  0.025027  0.073735   \n",
       "Percentages          0.016227    0.026217  0.162236  0.029569  0.141924   \n",
       "Syllogism            1.000000   -0.100259  0.019841 -0.030453  0.189365   \n",
       "Logic-Gate          -0.100259    1.000000  0.064552 -0.018619  0.088207   \n",
       "Loop                 0.019841    0.064552  1.000000  0.162298  0.163526   \n",
       "Venn                -0.030453   -0.018619  0.162298  1.000000 -0.045930   \n",
       "English              0.189365    0.088207  0.163526 -0.045930  1.000000   \n",
       "Final Score          0.003279    0.151888  0.416292  0.202957  0.044240   \n",
       "Status              -0.040045    0.087077  0.269046  0.142247 -0.042089   \n",
       "\n",
       "                    Final Score    Status  \n",
       "Interview              0.111616  0.084043  \n",
       "Logic                  0.387689  0.248072  \n",
       "Patterns-Sequences     0.076217  0.115273  \n",
       "Percentages            0.072861  0.071159  \n",
       "Syllogism              0.003279 -0.040045  \n",
       "Logic-Gate             0.151888  0.087077  \n",
       "Loop                   0.416292  0.269046  \n",
       "Venn                   0.202957  0.142247  \n",
       "English                0.044240 -0.042089  \n",
       "Final Score            1.000000  0.794106  \n",
       "Status                 0.794106  1.000000  "
      ]
     },
     "execution_count": 77,
     "metadata": {},
     "output_type": "execute_result"
    }
   ],
   "source": [
    "cleaned_dataframe.corr(method='spearman') #Get Correlation Analysis of various variables in the data using spearman \n"
   ]
  },
  {
   "cell_type": "markdown",
   "metadata": {},
   "source": [
    "From this correlation test, we can identify several positive correlations with the Status:\n",
    " 1. Total Logic score and Status, with a correlation of around 0.25\n",
    " 2. Loop section of the Logic test and Status, with a correlation of around 0.27\n",
    " 3. Venn Diagram of the Logic test and Status, with a correlation of around 0.14"
   ]
  },
  {
   "cell_type": "code",
   "execution_count": 78,
   "metadata": {},
   "outputs": [
    {
     "data": {
      "image/png": "[encoded data removed]",
      "text/plain": [
       "<Figure size 1440x1440 with 121 Axes>"
      ]
     },
     "metadata": {},
     "output_type": "display_data"
    }
   ],
   "source": [
    "# Plot the correlations between variables\n",
    "pd.plotting.scatter_matrix(cleaned_dataframe, figsize=(20, 20))\n",
    "plt.show()"
   ]
  },
  {
   "cell_type": "markdown",
   "metadata": {},
   "source": [
    "Amongst the 'Logic Test', 'English Test', and 'Interview'. The Logic test is the highest predictor of success in phase 0, with a positive correlation of almost 0.4. \n",
    "\n",
    "### Logic Test sections with correlation coefficients of > 0.1 when correlated with Status\n",
    "From the Correlation matrix, the previous finding of 0.28 correlation between passing phase 0 and the Loop score can be verified. In the plot, as the Loop section test score increases, the Final Score increases. \n",
    "\n",
    "For the 'Venn Diagram' section of the test, the students who answered this question correctly mostly scored on the upper end  of the final score (at least >50 final score)."
   ]
  },
  {
   "cell_type": "markdown",
   "metadata": {},
   "source": [
    "### Correlation Significance Test"
   ]
  },
  {
   "cell_type": "markdown",
   "metadata": {},
   "source": [
    "To test whether these correlations are significant, significance tests are conducted at the alpha = 0.01 level.\n",
    "The null hypothesis for the spearman correlation test is that the two sets of data are uncorrelated."
   ]
  },
  {
   "cell_type": "markdown",
   "metadata": {},
   "source": [
    "##### Total Logic Score and Status"
   ]
  },
  {
   "cell_type": "code",
   "execution_count": 79,
   "metadata": {},
   "outputs": [],
   "source": [
    "coef,p = stats.spearmanr(cleaned_dataframe['Logic'], cleaned_dataframe['Status'])"
   ]
  },
  {
   "cell_type": "code",
   "execution_count": 80,
   "metadata": {},
   "outputs": [
    {
     "name": "stdout",
     "output_type": "stream",
     "text": [
      "Spearman correlation coefficient between Total Logic Score and Status of Passing Phase 0: 0.248\n",
      "p value for this test is: p=0.001\n",
      "Samples are correlated (reject H0) p=0.001\n"
     ]
    }
   ],
   "source": [
    "print('Spearman correlation coefficient between Total Logic Score and Status of Passing Phase 0: %.3f' % coef)\n",
    "# interpreting the significance\n",
    "alpha = 0.01\n",
    "print ('p value for this test is: p=%.3f' % p)\n",
    "if p > alpha:\n",
    "\tprint('Samples are uncorrelated (fail to reject H0) p=%.3f' % p)\n",
    "else:\n",
    "\tprint('Samples are correlated (reject H0) p=%.3f' % p)"
   ]
  },
  {
   "cell_type": "markdown",
   "metadata": {},
   "source": [
    "##### Total Logic Score and Final Score"
   ]
  },
  {
   "cell_type": "code",
   "execution_count": 81,
   "metadata": {},
   "outputs": [
    {
     "name": "stdout",
     "output_type": "stream",
     "text": [
      "Spearman correlation coefficient between Total Logic Score and Final Score in Phase 0: 0.388\n",
      "p value for this test is: p=0.000\n",
      "Samples are correlated (reject H0) p=0.000\n"
     ]
    }
   ],
   "source": [
    "coef,p = stats.spearmanr(cleaned_dataframe['Logic'], cleaned_dataframe['Final Score'])\n",
    "print('Spearman correlation coefficient between Total Logic Score and Final Score in Phase 0: %.3f' % coef)\n",
    "# interpreting the significance\n",
    "alpha = 0.01\n",
    "print ('p value for this test is: p=%.3f' % p)\n",
    "if p > alpha:\n",
    "\tprint('Samples are uncorrelated (fail to reject H0) p=%.3f' % p)\n",
    "else:\n",
    "\tprint('Samples are correlated (reject H0) p=%.3f' % p)"
   ]
  },
  {
   "cell_type": "markdown",
   "metadata": {},
   "source": [
    "There is a significant correlation between the Total Logic Score and Final Score with a coefficient of 0.38. As Total Logic Score increases, the Final Score during Phase 0 increases."
   ]
  },
  {
   "cell_type": "markdown",
   "metadata": {},
   "source": [
    "### Examining Each Sections of the Logic Test vs the Final Score for Phase 0"
   ]
  },
  {
   "cell_type": "markdown",
   "metadata": {},
   "source": [
    "#### Loop Score and Final Score"
   ]
  },
  {
   "cell_type": "markdown",
   "metadata": {},
   "source": [
    "Here, the significance of the correlation between the Flow and Loop portion of the Logic Test and the Final Score at Phase 0 is tested"
   ]
  },
  {
   "cell_type": "code",
   "execution_count": 88,
   "metadata": {},
   "outputs": [
    {
     "name": "stdout",
     "output_type": "stream",
     "text": [
      "Spearman correlation coefficient between Loop Score and Final Score in Phase 0: 0.416\n",
      "p value for this test is: p=0.000\n",
      "Samples are correlated (reject H0) p=0.000\n"
     ]
    }
   ],
   "source": [
    "coef,p = stats.spearmanr(cleaned_dataframe['Loop'], cleaned_dataframe['Final Score'])\n",
    "print('Spearman correlation coefficient between Loop Score and Final Score in Phase 0: %.3f' % coef)\n",
    "# interpreting the significance\n",
    "alpha = 0.01\n",
    "print ('p value for this test is: p=%.3f' % p)\n",
    "if p > alpha:\n",
    "\tprint('Samples are uncorrelated (fail to reject H0) p=%.3f' % p)\n",
    "else:\n",
    "\tprint('Samples are correlated (reject H0) p=%.3f' % p)"
   ]
  },
  {
   "cell_type": "markdown",
   "metadata": {},
   "source": [
    "#### Venn Diagram Score and Final Score"
   ]
  },
  {
   "cell_type": "code",
   "execution_count": 89,
   "metadata": {},
   "outputs": [
    {
     "name": "stdout",
     "output_type": "stream",
     "text": [
      "Spearman correlation coefficient between Venn Diagram Score and Final Score at Phase 0: 0.203\n",
      "p value for this test is: p=0.009\n",
      "Samples are correlated (reject H0) p=0.009\n"
     ]
    }
   ],
   "source": [
    "coef,p = stats.spearmanr(cleaned_dataframe['Venn'], cleaned_dataframe['Final Score'])\n",
    "print('Spearman correlation coefficient between Venn Diagram Score and Final Score at Phase 0: %.3f' % coef)\n",
    "# interpreting the significance\n",
    "alpha = 0.01\n",
    "print ('p value for this test is: p=%.3f' % p)\n",
    "if p > alpha:\n",
    "\tprint('Samples are uncorrelated (fail to reject H0) p=%.3f' % p)\n",
    "else:\n",
    "\tprint('Samples are correlated (reject H0) p=%.3f' % p)"
   ]
  },
  {
   "cell_type": "markdown",
   "metadata": {},
   "source": [
    "#### Syllogism Score and Final Score"
   ]
  },
  {
   "cell_type": "code",
   "execution_count": 84,
   "metadata": {},
   "outputs": [
    {
     "name": "stdout",
     "output_type": "stream",
     "text": [
      "Spearman correlation coefficient between Syllogism Score and Final Score at Phase 0: 0.003\n",
      "p value for this test is: p=0.967\n",
      "Samples are uncorrelated (fail to reject H0) p=0.967\n"
     ]
    }
   ],
   "source": [
    "coef,p = stats.spearmanr(cleaned_dataframe['Syllogism'], cleaned_dataframe['Final Score'])\n",
    "print('Spearman correlation coefficient between Syllogism Score and Final Score at Phase 0: %.3f' % coef)\n",
    "# interpreting the significance\n",
    "alpha = 0.01\n",
    "print ('p value for this test is: p=%.3f' % p)\n",
    "if p > alpha:\n",
    "\tprint('Samples are uncorrelated (fail to reject H0) p=%.3f' % p)\n",
    "else:\n",
    "\tprint('Samples are correlated (reject H0) p=%.3f' % p)"
   ]
  },
  {
   "cell_type": "markdown",
   "metadata": {},
   "source": [
    "#### Patterns and Sequences Score and Final Score"
   ]
  },
  {
   "cell_type": "code",
   "execution_count": 85,
   "metadata": {},
   "outputs": [
    {
     "name": "stdout",
     "output_type": "stream",
     "text": [
      "Spearman correlation coefficient between Patterns and Sequences Score and Final Score at Phase 0: 0.076\n",
      "p value for this test is: p=0.331\n",
      "Samples are uncorrelated (fail to reject H0) p=0.331\n"
     ]
    }
   ],
   "source": [
    "coef,p = stats.spearmanr(cleaned_dataframe['Patterns-Sequences'], cleaned_dataframe['Final Score'])\n",
    "print('Spearman correlation coefficient between Patterns and Sequences Score and Final Score at Phase 0: %.3f' % coef)\n",
    "# interpreting the significance\n",
    "alpha = 0.01\n",
    "print ('p value for this test is: p=%.3f' % p)\n",
    "if p > alpha:\n",
    "\tprint('Samples are uncorrelated (fail to reject H0) p=%.3f' % p)\n",
    "else:\n",
    "\tprint('Samples are correlated (reject H0) p=%.3f' % p)"
   ]
  },
  {
   "cell_type": "markdown",
   "metadata": {},
   "source": [
    "#### Percentages Score and Final Score"
   ]
  },
  {
   "cell_type": "code",
   "execution_count": 86,
   "metadata": {},
   "outputs": [
    {
     "name": "stdout",
     "output_type": "stream",
     "text": [
      "Spearman correlation coefficient between Percentages Score and Final Score at Phase 0: 0.073\n",
      "p value for this test is: p=0.352\n",
      "Samples are uncorrelated (fail to reject H0) p=0.352\n"
     ]
    }
   ],
   "source": [
    "coef,p = stats.spearmanr(cleaned_dataframe['Percentages'], cleaned_dataframe['Final Score'])\n",
    "print('Spearman correlation coefficient between Percentages Score and Final Score at Phase 0: %.3f' % coef)\n",
    "# interpreting the significance\n",
    "alpha = 0.01\n",
    "print ('p value for this test is: p=%.3f' % p)\n",
    "if p > alpha:\n",
    "\tprint('Samples are uncorrelated (fail to reject H0) p=%.3f' % p)\n",
    "else:\n",
    "\tprint('Samples are correlated (reject H0) p=%.3f' % p)"
   ]
  },
  {
   "cell_type": "markdown",
   "metadata": {},
   "source": [
    "#### Logic Gate and Final Score"
   ]
  },
  {
   "cell_type": "code",
   "execution_count": 87,
   "metadata": {},
   "outputs": [
    {
     "name": "stdout",
     "output_type": "stream",
     "text": [
      "Spearman correlation coefficient between Logic Gate Score and Final Score at Phase 0: 0.152\n",
      "p value for this test is: p=0.051\n",
      "Samples are uncorrelated (fail to reject H0) p=0.051\n"
     ]
    }
   ],
   "source": [
    "coef,p = stats.spearmanr(cleaned_dataframe['Logic-Gate'], cleaned_dataframe['Final Score'])\n",
    "print('Spearman correlation coefficient between Logic Gate Score and Final Score at Phase 0: %.3f' % coef)\n",
    "# interpreting the significance\n",
    "alpha = 0.01\n",
    "print ('p value for this test is: p=%.3f' % p)\n",
    "if p > alpha:\n",
    "\tprint('Samples are uncorrelated (fail to reject H0) p=%.3f' % p)\n",
    "else:\n",
    "\tprint('Samples are correlated (reject H0) p=%.3f' % p)"
   ]
  },
  {
   "cell_type": "markdown",
   "metadata": {},
   "source": [
    "#### Conclusion for the Logic Test Sections"
   ]
  },
  {
   "cell_type": "markdown",
   "metadata": {},
   "source": [
    "`Venn Diagram` and `Flow and Loop` sections of the Logic Test show a significant positive correlation with the students' Final Score at phase 0. "
   ]
  },
  {
   "cell_type": "markdown",
   "metadata": {},
   "source": [
    "### English and Interview Tests correlated with Final Score"
   ]
  },
  {
   "cell_type": "code",
   "execution_count": 90,
   "metadata": {},
   "outputs": [
    {
     "name": "stdout",
     "output_type": "stream",
     "text": [
      "Spearman correlation coefficient between English Test Score and Final Score at Phase 0: 0.044\n",
      "p value for this test is: p=0.573\n",
      "Samples are uncorrelated (fail to reject H0) p=0.573\n"
     ]
    }
   ],
   "source": [
    "coef,p = stats.spearmanr(cleaned_dataframe['English'], cleaned_dataframe['Final Score'])\n",
    "print('Spearman correlation coefficient between English Test Score and Final Score at Phase 0: %.3f' % coef)\n",
    "# interpreting the significance\n",
    "alpha = 0.01\n",
    "print ('p value for this test is: p=%.3f' % p)\n",
    "if p > alpha:\n",
    "\tprint('Samples are uncorrelated (fail to reject H0) p=%.3f' % p)\n",
    "else:\n",
    "\tprint('Samples are correlated (reject H0) p=%.3f' % p)"
   ]
  },
  {
   "cell_type": "code",
   "execution_count": 91,
   "metadata": {},
   "outputs": [
    {
     "name": "stdout",
     "output_type": "stream",
     "text": [
      "Spearman correlation coefficient between Interview Score and Final Score at Phase 0: 0.112\n",
      "p value for this test is: p=0.153\n",
      "Samples are uncorrelated (fail to reject H0) p=0.153\n"
     ]
    }
   ],
   "source": [
    "coef,p = stats.spearmanr(cleaned_dataframe['Interview'], cleaned_dataframe['Final Score'])\n",
    "print('Spearman correlation coefficient between Interview Score and Final Score at Phase 0: %.3f' % coef)\n",
    "# interpreting the significance\n",
    "alpha = 0.01\n",
    "print ('p value for this test is: p=%.3f' % p)\n",
    "if p > alpha:\n",
    "\tprint('Samples are uncorrelated (fail to reject H0) p=%.3f' % p)\n",
    "else:\n",
    "\tprint('Samples are correlated (reject H0) p=%.3f' % p)"
   ]
  },
  {
   "cell_type": "markdown",
   "metadata": {},
   "source": [
    "Both the English Test and Interview display a non-significant but positive correlation with the Final Score at Phase 0. "
   ]
  },
  {
   "cell_type": "code",
   "execution_count": null,
   "metadata": {},
   "outputs": [],
   "source": []
  }
 ],
 "metadata": {
  "kernelspec": {
   "display_name": "Python 3",
   "language": "python",
   "name": "python3"
  },
  "language_info": {
   "codemirror_mode": {
    "name": "ipython",
    "version": 3
   },
   "file_extension": ".py",
   "mimetype": "text/x-python",
   "name": "python",
   "nbconvert_exporter": "python",
   "pygments_lexer": "ipython3",
   "version": "3.7.4"
  }
 },
 "nbformat": 4,
 "nbformat_minor": 2
}
